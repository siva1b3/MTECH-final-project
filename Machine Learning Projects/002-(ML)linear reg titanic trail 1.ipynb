{
 "cells": [
  {
   "cell_type": "code",
   "execution_count": 1,
   "id": "developed-interest",
   "metadata": {},
   "outputs": [],
   "source": [
    "# linear algebra\n",
    "import numpy as np"
   ]
  },
  {
   "cell_type": "code",
   "execution_count": 2,
   "id": "adverse-treasury",
   "metadata": {},
   "outputs": [],
   "source": [
    "# data processing\n",
    "import pandas as pd "
   ]
  },
  {
   "cell_type": "code",
   "execution_count": 3,
   "id": "curious-belle",
   "metadata": {},
   "outputs": [],
   "source": [
    "# data visualization\n",
    "import seaborn as sns\n",
    "%matplotlib inline\n",
    "from matplotlib import pyplot as plt\n",
    "from matplotlib import style"
   ]
  },
  {
   "cell_type": "code",
   "execution_count": 4,
   "id": "documented-compromise",
   "metadata": {},
   "outputs": [],
   "source": [
    "# Algorithms\n",
    "from sklearn import linear_model\n",
    "from sklearn.linear_model import LogisticRegression\n",
    "from sklearn.ensemble import RandomForestClassifier\n",
    "from sklearn.linear_model import Perceptron\n",
    "from sklearn.linear_model import SGDClassifier\n",
    "from sklearn.tree import DecisionTreeClassifier\n",
    "from sklearn.neighbors import KNeighborsClassifier\n",
    "from sklearn.svm import SVC, LinearSVC\n",
    "from sklearn.naive_bayes import GaussianNB"
   ]
  },
  {
   "cell_type": "code",
   "execution_count": 5,
   "id": "confused-barrel",
   "metadata": {},
   "outputs": [],
   "source": [
    "gender_submission_df = pd.read_csv(r\"E:\\siva\\algo\\dspy\\session\\gender_submission_titanic.csv\")\n",
    "test_df = pd.read_csv(r\"E:\\siva\\algo\\dspy\\session\\test_titanic.csv\")\n",
    "train_df = pd.read_csv(r\"E:\\siva\\algo\\dspy\\session\\train_titanic.csv\")"
   ]
  },
  {
   "cell_type": "code",
   "execution_count": 31,
   "id": "05fd17d4-977a-4f02-bfc4-9ef6d5420267",
   "metadata": {},
   "outputs": [],
   "source": [
    "k = train_df.columns\n",
    "p = train_df.index\n",
    "k = k[1:5]"
   ]
  },
  {
   "cell_type": "code",
   "execution_count": 36,
   "id": "1f44b38e-74f1-493c-a659-4d23be451c8f",
   "metadata": {},
   "outputs": [
    {
     "data": {
      "text/plain": [
       "2"
      ]
     },
     "execution_count": 36,
     "metadata": {},
     "output_type": "execute_result"
    }
   ],
   "source": [
    "train_df.columns.get_loc(\"Pclass\")"
   ]
  },
  {
   "cell_type": "code",
   "execution_count": 37,
   "id": "29190e7c-1840-422d-9499-b560c4be7c56",
   "metadata": {},
   "outputs": [
    {
     "name": "stdout",
     "output_type": "stream",
     "text": [
      "32.4 µs ± 679 ns per loop (mean ± std. dev. of 7 runs, 10000 loops each)\n"
     ]
    }
   ],
   "source": [
    "%timeit [train_df.columns.get_loc(k1) for k1 in k if k1 in train_df.columns]"
   ]
  },
  {
   "cell_type": "code",
   "execution_count": 38,
   "id": "524d9f2d-afca-4b62-a020-7a82782d2f89",
   "metadata": {},
   "outputs": [],
   "source": [
    "k2, k3= pd.factorize(train_df[\"Pclass\"])"
   ]
  },
  {
   "cell_type": "code",
   "execution_count": 39,
   "id": "f851a8b2-2c7a-4de8-9313-d20a9a405a56",
   "metadata": {},
   "outputs": [
    {
     "data": {
      "text/plain": [
       "array([0, 1, 0, 1, 0, 0, 1, 0, 0, 2, 0, 1, 0, 0, 0, 2, 0, 2, 0, 0, 2, 2,\n",
       "       0, 1, 0, 0, 0, 1, 0, 0, 1, 1, 0, 2, 1, 1, 0, 0, 0, 0, 0, 2, 0, 2,\n",
       "       0, 0, 0, 0, 0, 0, 0, 0, 1, 2, 1, 1, 2, 0, 2, 0, 0, 1, 1, 0, 1, 0,\n",
       "       2, 0, 0, 0, 2, 0, 2, 0, 0, 0, 0, 0, 2, 0, 0, 0, 0, 1, 2, 0, 0, 0,\n",
       "       1, 0, 0, 0, 1, 0, 0, 0, 1, 1, 2, 2, 0, 0, 1, 0, 0, 0, 0, 0, 0, 0,\n",
       "       1, 0, 0, 0, 0, 0, 0, 2, 1, 0, 2, 0, 2, 2, 1, 0, 0, 0, 0, 0, 0, 0,\n",
       "       0, 2, 2, 2, 1, 1, 0, 1, 0, 0, 0, 0, 2, 2, 0, 0, 2, 2, 2, 1, 0, 0,\n",
       "       0, 1, 0, 0, 0, 0, 0, 2, 0, 0, 0, 0, 1, 0, 1, 0, 1, 0, 0, 0, 1, 0,\n",
       "       0, 1, 2, 0, 0, 2, 0, 2, 0, 1, 0, 1, 0, 0, 2, 2, 0, 2, 1, 1, 0, 0,\n",
       "       0, 2, 0, 0, 0, 0, 0, 0, 0, 0, 0, 1, 0, 2, 0, 2, 0, 1, 0, 2, 1, 2,\n",
       "       0, 2, 0, 0, 1, 0, 2, 0, 2, 0, 1, 0, 2, 0, 2, 0, 2, 2, 2, 2, 0, 0,\n",
       "       2, 0, 0, 1, 0, 2, 1, 2, 0, 0, 1, 0, 0, 0, 1, 1, 1, 2, 0, 0, 1, 1,\n",
       "       0, 2, 0, 0, 1, 1, 1, 0, 2, 1, 0, 1, 0, 2, 0, 0, 0, 0, 0, 0, 1, 0,\n",
       "       0, 0, 2, 0, 1, 1, 2, 0, 0, 1, 0, 1, 1, 1, 0, 0, 0, 2, 0, 1, 1, 1,\n",
       "       2, 1, 1, 1, 2, 0, 2, 0, 2, 2, 1, 1, 0, 0, 2, 2, 0, 1, 0, 2, 0, 1,\n",
       "       0, 1, 1, 0, 1, 0, 1, 1, 0, 1, 2, 1, 2, 2, 2, 2, 2, 0, 0, 0, 0, 1,\n",
       "       0, 0, 0, 0, 1, 2, 0, 0, 0, 2, 0, 0, 0, 0, 1, 0, 0, 1, 1, 0, 0, 1,\n",
       "       0, 1, 0, 1, 0, 0, 1, 0, 0, 1, 0, 2, 0, 2, 0, 2, 1, 0, 0, 1, 0, 0,\n",
       "       0, 2, 2, 2, 0, 0, 0, 0, 0, 2, 0, 2, 0, 0, 0, 0, 1, 2, 0, 0, 2, 2,\n",
       "       2, 0, 0, 0, 0, 0, 0, 0, 2, 2, 0, 0, 1, 0, 2, 0, 1, 1, 0, 2, 1, 2,\n",
       "       2, 0, 0, 2, 0, 1, 2, 1, 0, 1, 2, 0, 1, 1, 0, 0, 1, 1, 2, 0, 1, 0,\n",
       "       1, 2, 0, 0, 2, 1, 0, 0, 0, 0, 2, 2, 0, 1, 2, 0, 0, 0, 0, 2, 0, 0,\n",
       "       1, 0, 1, 1, 0, 0, 0, 0, 1, 1, 0, 0, 1, 0, 1, 0, 0, 0, 0, 0, 1, 1,\n",
       "       2, 1, 0, 0, 0, 0, 1, 1, 0, 1, 2, 0, 2, 0, 1, 0, 0, 1, 0, 0, 2, 1,\n",
       "       0, 2, 2, 0, 0, 0, 0, 2, 1, 1, 0, 1, 1, 0, 0, 2, 1, 1, 2, 2, 0, 2,\n",
       "       1, 2, 0, 0, 0, 1, 1, 1, 1, 0, 0, 0, 2, 0, 0, 0, 0, 0, 0, 0, 2, 1,\n",
       "       1, 0, 0, 0, 2, 1, 0, 0, 2, 1, 2, 1, 0, 1, 2, 1, 0, 0, 0, 1, 0, 0,\n",
       "       2, 0, 2, 0, 0, 1, 2, 0, 1, 0, 1, 0, 0, 1, 2, 1, 0, 0, 0, 0, 0, 2,\n",
       "       0, 0, 2, 2, 0, 1, 0, 0, 0, 1, 2, 1, 0, 0, 1, 0, 1, 1, 0, 2, 0, 2,\n",
       "       0, 0, 0, 1, 0, 0, 0, 1, 0, 1, 0, 0, 0, 2, 0, 0, 0, 2, 0, 0, 2, 1,\n",
       "       1, 0, 1, 0, 0, 2, 2, 0, 0, 1, 2, 1, 2, 2, 2, 0, 0, 0, 0, 1, 0, 1,\n",
       "       0, 0, 2, 2, 0, 0, 0, 1, 1, 0, 0, 0, 1, 2, 0, 0, 1, 0, 1, 1, 0, 0,\n",
       "       0, 2, 2, 1, 1, 0, 1, 1, 1, 0, 2, 0, 1, 2, 0, 0, 2, 0, 2, 2, 1, 0,\n",
       "       2, 0, 2, 0, 1, 0, 2, 2, 2, 0, 0, 1, 0, 0, 1, 1, 1, 0, 0, 1, 0, 2,\n",
       "       1, 0, 2, 0, 0, 0, 2, 2, 0, 2, 0, 1, 0, 0, 0, 1, 0, 1, 1, 0, 0, 0,\n",
       "       0, 0, 2, 0, 2, 0, 0, 0, 0, 1, 0, 1, 1, 0, 0, 0, 0, 0, 0, 1, 0, 2,\n",
       "       0, 1, 0, 2, 1, 0, 0, 0, 2, 2, 1, 0, 0, 0, 1, 0, 2, 1, 0, 0, 2, 0,\n",
       "       0, 1, 0, 2, 0, 0, 1, 0, 1, 0, 0, 0, 0, 2, 0, 1, 0, 2, 0, 0, 0, 1,\n",
       "       0, 0, 0, 1, 0, 2, 1, 0, 0, 0, 0, 0, 2, 1, 0, 0, 0, 1, 2, 0, 1, 1,\n",
       "       0, 0, 0, 2, 1, 0, 2, 2, 2, 1, 0, 0, 0, 1, 1, 0, 2, 0, 0, 0, 0, 1,\n",
       "       2, 0, 0, 2, 0, 0, 2, 1, 0, 1, 0], dtype=int64)"
      ]
     },
     "execution_count": 39,
     "metadata": {},
     "output_type": "execute_result"
    }
   ],
   "source": [
    "k2"
   ]
  },
  {
   "cell_type": "code",
   "execution_count": 40,
   "id": "8b92c5d7-214f-4172-b498-8efac25e3b6d",
   "metadata": {},
   "outputs": [
    {
     "data": {
      "text/plain": [
       "Int64Index([3, 1, 2], dtype='int64')"
      ]
     },
     "execution_count": 40,
     "metadata": {},
     "output_type": "execute_result"
    }
   ],
   "source": [
    "k3"
   ]
  },
  {
   "cell_type": "code",
   "execution_count": 46,
   "id": "b0f3c300-5e36-40c3-a627-a9a186b32922",
   "metadata": {},
   "outputs": [
    {
     "data": {
      "text/html": [
       "<div>\n",
       "<style scoped>\n",
       "    .dataframe tbody tr th:only-of-type {\n",
       "        vertical-align: middle;\n",
       "    }\n",
       "\n",
       "    .dataframe tbody tr th {\n",
       "        vertical-align: top;\n",
       "    }\n",
       "\n",
       "    .dataframe thead th {\n",
       "        text-align: right;\n",
       "    }\n",
       "</style>\n",
       "<table border=\"1\" class=\"dataframe\">\n",
       "  <thead>\n",
       "    <tr style=\"text-align: right;\">\n",
       "      <th></th>\n",
       "      <th>Pclass_1</th>\n",
       "      <th>Pclass_2</th>\n",
       "      <th>Pclass_3</th>\n",
       "    </tr>\n",
       "  </thead>\n",
       "  <tbody>\n",
       "    <tr>\n",
       "      <th>0</th>\n",
       "      <td>0</td>\n",
       "      <td>0</td>\n",
       "      <td>1</td>\n",
       "    </tr>\n",
       "    <tr>\n",
       "      <th>1</th>\n",
       "      <td>1</td>\n",
       "      <td>0</td>\n",
       "      <td>0</td>\n",
       "    </tr>\n",
       "    <tr>\n",
       "      <th>2</th>\n",
       "      <td>0</td>\n",
       "      <td>0</td>\n",
       "      <td>1</td>\n",
       "    </tr>\n",
       "    <tr>\n",
       "      <th>3</th>\n",
       "      <td>1</td>\n",
       "      <td>0</td>\n",
       "      <td>0</td>\n",
       "    </tr>\n",
       "    <tr>\n",
       "      <th>4</th>\n",
       "      <td>0</td>\n",
       "      <td>0</td>\n",
       "      <td>1</td>\n",
       "    </tr>\n",
       "    <tr>\n",
       "      <th>...</th>\n",
       "      <td>...</td>\n",
       "      <td>...</td>\n",
       "      <td>...</td>\n",
       "    </tr>\n",
       "    <tr>\n",
       "      <th>886</th>\n",
       "      <td>0</td>\n",
       "      <td>1</td>\n",
       "      <td>0</td>\n",
       "    </tr>\n",
       "    <tr>\n",
       "      <th>887</th>\n",
       "      <td>1</td>\n",
       "      <td>0</td>\n",
       "      <td>0</td>\n",
       "    </tr>\n",
       "    <tr>\n",
       "      <th>888</th>\n",
       "      <td>0</td>\n",
       "      <td>0</td>\n",
       "      <td>1</td>\n",
       "    </tr>\n",
       "    <tr>\n",
       "      <th>889</th>\n",
       "      <td>1</td>\n",
       "      <td>0</td>\n",
       "      <td>0</td>\n",
       "    </tr>\n",
       "    <tr>\n",
       "      <th>890</th>\n",
       "      <td>0</td>\n",
       "      <td>0</td>\n",
       "      <td>1</td>\n",
       "    </tr>\n",
       "  </tbody>\n",
       "</table>\n",
       "<p>891 rows × 3 columns</p>\n",
       "</div>"
      ],
      "text/plain": [
       "     Pclass_1  Pclass_2  Pclass_3\n",
       "0           0         0         1\n",
       "1           1         0         0\n",
       "2           0         0         1\n",
       "3           1         0         0\n",
       "4           0         0         1\n",
       "..        ...       ...       ...\n",
       "886         0         1         0\n",
       "887         1         0         0\n",
       "888         0         0         1\n",
       "889         1         0         0\n",
       "890         0         0         1\n",
       "\n",
       "[891 rows x 3 columns]"
      ]
     },
     "execution_count": 46,
     "metadata": {},
     "output_type": "execute_result"
    }
   ],
   "source": [
    "m1 = pd.get_dummies(train_df[\"Pclass\"],prefix=\"Pclass\")\n",
    "m1"
   ]
  },
  {
   "cell_type": "code",
   "execution_count": null,
   "id": "0a6ddd25-c443-4b1a-80e3-31650461a794",
   "metadata": {},
   "outputs": [],
   "source": [
    "m1 = pd.*_d*"
   ]
  },
  {
   "cell_type": "code",
   "execution_count": null,
   "id": "b15b6526-bbb9-4a93-aae8-cb112da377ed",
   "metadata": {},
   "outputs": [],
   "source": [
    "m1 = train_df.*_d*"
   ]
  },
  {
   "cell_type": "code",
   "execution_count": null,
   "id": "2e7108bf-345f-4864-aae9-c94ab30151fd",
   "metadata": {},
   "outputs": [],
   "source": [
    "m1 = train_df.*du*"
   ]
  },
  {
   "cell_type": "code",
   "execution_count": 23,
   "id": "11631109-08e2-49bc-b11e-1330c5c35887",
   "metadata": {},
   "outputs": [
    {
     "data": {
      "text/html": [
       "<div>\n",
       "<style scoped>\n",
       "    .dataframe tbody tr th:only-of-type {\n",
       "        vertical-align: middle;\n",
       "    }\n",
       "\n",
       "    .dataframe tbody tr th {\n",
       "        vertical-align: top;\n",
       "    }\n",
       "\n",
       "    .dataframe thead th {\n",
       "        text-align: right;\n",
       "    }\n",
       "</style>\n",
       "<table border=\"1\" class=\"dataframe\">\n",
       "  <thead>\n",
       "    <tr style=\"text-align: right;\">\n",
       "      <th></th>\n",
       "      <th>PassengerId</th>\n",
       "      <th>Survived</th>\n",
       "      <th>Pclass</th>\n",
       "      <th>Name</th>\n",
       "      <th>Sex</th>\n",
       "      <th>Age</th>\n",
       "      <th>SibSp</th>\n",
       "    </tr>\n",
       "  </thead>\n",
       "  <tbody>\n",
       "    <tr>\n",
       "      <th>1</th>\n",
       "      <td>2</td>\n",
       "      <td>1</td>\n",
       "      <td>1</td>\n",
       "      <td>Cumings, Mrs. John Bradley (Florence Briggs Th...</td>\n",
       "      <td>female</td>\n",
       "      <td>38.0</td>\n",
       "      <td>1</td>\n",
       "    </tr>\n",
       "    <tr>\n",
       "      <th>2</th>\n",
       "      <td>3</td>\n",
       "      <td>1</td>\n",
       "      <td>3</td>\n",
       "      <td>Heikkinen, Miss. Laina</td>\n",
       "      <td>female</td>\n",
       "      <td>26.0</td>\n",
       "      <td>0</td>\n",
       "    </tr>\n",
       "    <tr>\n",
       "      <th>3</th>\n",
       "      <td>4</td>\n",
       "      <td>1</td>\n",
       "      <td>1</td>\n",
       "      <td>Futrelle, Mrs. Jacques Heath (Lily May Peel)</td>\n",
       "      <td>female</td>\n",
       "      <td>35.0</td>\n",
       "      <td>1</td>\n",
       "    </tr>\n",
       "    <tr>\n",
       "      <th>4</th>\n",
       "      <td>5</td>\n",
       "      <td>0</td>\n",
       "      <td>3</td>\n",
       "      <td>Allen, Mr. William Henry</td>\n",
       "      <td>male</td>\n",
       "      <td>35.0</td>\n",
       "      <td>0</td>\n",
       "    </tr>\n",
       "    <tr>\n",
       "      <th>5</th>\n",
       "      <td>6</td>\n",
       "      <td>0</td>\n",
       "      <td>3</td>\n",
       "      <td>Moran, Mr. James</td>\n",
       "      <td>male</td>\n",
       "      <td>NaN</td>\n",
       "      <td>0</td>\n",
       "    </tr>\n",
       "    <tr>\n",
       "      <th>6</th>\n",
       "      <td>7</td>\n",
       "      <td>0</td>\n",
       "      <td>1</td>\n",
       "      <td>McCarthy, Mr. Timothy J</td>\n",
       "      <td>male</td>\n",
       "      <td>54.0</td>\n",
       "      <td>0</td>\n",
       "    </tr>\n",
       "    <tr>\n",
       "      <th>7</th>\n",
       "      <td>8</td>\n",
       "      <td>0</td>\n",
       "      <td>3</td>\n",
       "      <td>Palsson, Master. Gosta Leonard</td>\n",
       "      <td>male</td>\n",
       "      <td>2.0</td>\n",
       "      <td>3</td>\n",
       "    </tr>\n",
       "    <tr>\n",
       "      <th>8</th>\n",
       "      <td>9</td>\n",
       "      <td>1</td>\n",
       "      <td>3</td>\n",
       "      <td>Johnson, Mrs. Oscar W (Elisabeth Vilhelmina Berg)</td>\n",
       "      <td>female</td>\n",
       "      <td>27.0</td>\n",
       "      <td>0</td>\n",
       "    </tr>\n",
       "    <tr>\n",
       "      <th>9</th>\n",
       "      <td>10</td>\n",
       "      <td>1</td>\n",
       "      <td>2</td>\n",
       "      <td>Nasser, Mrs. Nicholas (Adele Achem)</td>\n",
       "      <td>female</td>\n",
       "      <td>14.0</td>\n",
       "      <td>1</td>\n",
       "    </tr>\n",
       "    <tr>\n",
       "      <th>10</th>\n",
       "      <td>11</td>\n",
       "      <td>1</td>\n",
       "      <td>3</td>\n",
       "      <td>Sandstrom, Miss. Marguerite Rut</td>\n",
       "      <td>female</td>\n",
       "      <td>4.0</td>\n",
       "      <td>1</td>\n",
       "    </tr>\n",
       "    <tr>\n",
       "      <th>11</th>\n",
       "      <td>12</td>\n",
       "      <td>1</td>\n",
       "      <td>1</td>\n",
       "      <td>Bonnell, Miss. Elizabeth</td>\n",
       "      <td>female</td>\n",
       "      <td>58.0</td>\n",
       "      <td>0</td>\n",
       "    </tr>\n",
       "    <tr>\n",
       "      <th>12</th>\n",
       "      <td>13</td>\n",
       "      <td>0</td>\n",
       "      <td>3</td>\n",
       "      <td>Saundercock, Mr. William Henry</td>\n",
       "      <td>male</td>\n",
       "      <td>20.0</td>\n",
       "      <td>0</td>\n",
       "    </tr>\n",
       "    <tr>\n",
       "      <th>13</th>\n",
       "      <td>14</td>\n",
       "      <td>0</td>\n",
       "      <td>3</td>\n",
       "      <td>Andersson, Mr. Anders Johan</td>\n",
       "      <td>male</td>\n",
       "      <td>39.0</td>\n",
       "      <td>1</td>\n",
       "    </tr>\n",
       "    <tr>\n",
       "      <th>14</th>\n",
       "      <td>15</td>\n",
       "      <td>0</td>\n",
       "      <td>3</td>\n",
       "      <td>Vestrom, Miss. Hulda Amanda Adolfina</td>\n",
       "      <td>female</td>\n",
       "      <td>14.0</td>\n",
       "      <td>0</td>\n",
       "    </tr>\n",
       "    <tr>\n",
       "      <th>15</th>\n",
       "      <td>16</td>\n",
       "      <td>1</td>\n",
       "      <td>2</td>\n",
       "      <td>Hewlett, Mrs. (Mary D Kingcome)</td>\n",
       "      <td>female</td>\n",
       "      <td>55.0</td>\n",
       "      <td>0</td>\n",
       "    </tr>\n",
       "    <tr>\n",
       "      <th>16</th>\n",
       "      <td>17</td>\n",
       "      <td>0</td>\n",
       "      <td>3</td>\n",
       "      <td>Rice, Master. Eugene</td>\n",
       "      <td>male</td>\n",
       "      <td>2.0</td>\n",
       "      <td>4</td>\n",
       "    </tr>\n",
       "    <tr>\n",
       "      <th>17</th>\n",
       "      <td>18</td>\n",
       "      <td>1</td>\n",
       "      <td>2</td>\n",
       "      <td>Williams, Mr. Charles Eugene</td>\n",
       "      <td>male</td>\n",
       "      <td>NaN</td>\n",
       "      <td>0</td>\n",
       "    </tr>\n",
       "    <tr>\n",
       "      <th>18</th>\n",
       "      <td>19</td>\n",
       "      <td>0</td>\n",
       "      <td>3</td>\n",
       "      <td>Vander Planke, Mrs. Julius (Emelia Maria Vande...</td>\n",
       "      <td>female</td>\n",
       "      <td>31.0</td>\n",
       "      <td>1</td>\n",
       "    </tr>\n",
       "    <tr>\n",
       "      <th>19</th>\n",
       "      <td>20</td>\n",
       "      <td>1</td>\n",
       "      <td>3</td>\n",
       "      <td>Masselmani, Mrs. Fatima</td>\n",
       "      <td>female</td>\n",
       "      <td>NaN</td>\n",
       "      <td>0</td>\n",
       "    </tr>\n",
       "    <tr>\n",
       "      <th>20</th>\n",
       "      <td>21</td>\n",
       "      <td>0</td>\n",
       "      <td>2</td>\n",
       "      <td>Fynney, Mr. Joseph J</td>\n",
       "      <td>male</td>\n",
       "      <td>35.0</td>\n",
       "      <td>0</td>\n",
       "    </tr>\n",
       "    <tr>\n",
       "      <th>21</th>\n",
       "      <td>22</td>\n",
       "      <td>1</td>\n",
       "      <td>2</td>\n",
       "      <td>Beesley, Mr. Lawrence</td>\n",
       "      <td>male</td>\n",
       "      <td>34.0</td>\n",
       "      <td>0</td>\n",
       "    </tr>\n",
       "    <tr>\n",
       "      <th>22</th>\n",
       "      <td>23</td>\n",
       "      <td>1</td>\n",
       "      <td>3</td>\n",
       "      <td>McGowan, Miss. Anna \"Annie\"</td>\n",
       "      <td>female</td>\n",
       "      <td>15.0</td>\n",
       "      <td>0</td>\n",
       "    </tr>\n",
       "  </tbody>\n",
       "</table>\n",
       "</div>"
      ],
      "text/plain": [
       "    PassengerId  Survived  Pclass  \\\n",
       "1             2         1       1   \n",
       "2             3         1       3   \n",
       "3             4         1       1   \n",
       "4             5         0       3   \n",
       "5             6         0       3   \n",
       "6             7         0       1   \n",
       "7             8         0       3   \n",
       "8             9         1       3   \n",
       "9            10         1       2   \n",
       "10           11         1       3   \n",
       "11           12         1       1   \n",
       "12           13         0       3   \n",
       "13           14         0       3   \n",
       "14           15         0       3   \n",
       "15           16         1       2   \n",
       "16           17         0       3   \n",
       "17           18         1       2   \n",
       "18           19         0       3   \n",
       "19           20         1       3   \n",
       "20           21         0       2   \n",
       "21           22         1       2   \n",
       "22           23         1       3   \n",
       "\n",
       "                                                 Name     Sex   Age  SibSp  \n",
       "1   Cumings, Mrs. John Bradley (Florence Briggs Th...  female  38.0      1  \n",
       "2                              Heikkinen, Miss. Laina  female  26.0      0  \n",
       "3        Futrelle, Mrs. Jacques Heath (Lily May Peel)  female  35.0      1  \n",
       "4                            Allen, Mr. William Henry    male  35.0      0  \n",
       "5                                    Moran, Mr. James    male   NaN      0  \n",
       "6                             McCarthy, Mr. Timothy J    male  54.0      0  \n",
       "7                      Palsson, Master. Gosta Leonard    male   2.0      3  \n",
       "8   Johnson, Mrs. Oscar W (Elisabeth Vilhelmina Berg)  female  27.0      0  \n",
       "9                 Nasser, Mrs. Nicholas (Adele Achem)  female  14.0      1  \n",
       "10                    Sandstrom, Miss. Marguerite Rut  female   4.0      1  \n",
       "11                           Bonnell, Miss. Elizabeth  female  58.0      0  \n",
       "12                     Saundercock, Mr. William Henry    male  20.0      0  \n",
       "13                        Andersson, Mr. Anders Johan    male  39.0      1  \n",
       "14               Vestrom, Miss. Hulda Amanda Adolfina  female  14.0      0  \n",
       "15                   Hewlett, Mrs. (Mary D Kingcome)   female  55.0      0  \n",
       "16                               Rice, Master. Eugene    male   2.0      4  \n",
       "17                       Williams, Mr. Charles Eugene    male   NaN      0  \n",
       "18  Vander Planke, Mrs. Julius (Emelia Maria Vande...  female  31.0      1  \n",
       "19                            Masselmani, Mrs. Fatima  female   NaN      0  \n",
       "20                               Fynney, Mr. Joseph J    male  35.0      0  \n",
       "21                              Beesley, Mr. Lawrence    male  34.0      0  \n",
       "22                        McGowan, Miss. Anna \"Annie\"  female  15.0      0  "
      ]
     },
     "execution_count": 23,
     "metadata": {},
     "output_type": "execute_result"
    }
   ],
   "source": [
    "train_df.iloc[1:23,0:7]"
   ]
  },
  {
   "cell_type": "code",
   "execution_count": 8,
   "id": "a83f7d63-d67a-4fb8-aae0-059234fdb6db",
   "metadata": {},
   "outputs": [
    {
     "data": {
      "text/plain": [
       "0      0\n",
       "1      1\n",
       "2      1\n",
       "3      1\n",
       "4      0\n",
       "      ..\n",
       "886    0\n",
       "887    1\n",
       "888    0\n",
       "889    1\n",
       "890    0\n",
       "Name: Survived, Length: 891, dtype: int64"
      ]
     },
     "execution_count": 8,
     "metadata": {},
     "output_type": "execute_result"
    }
   ],
   "source": [
    "train_df[\"Survived\"]"
   ]
  },
  {
   "cell_type": "code",
   "execution_count": 6,
   "id": "juvenile-wiring",
   "metadata": {},
   "outputs": [],
   "source": [
    "train_df.to_csv(\"0001.csv\")"
   ]
  },
  {
   "cell_type": "code",
   "execution_count": 43,
   "id": "sunrise-montana",
   "metadata": {},
   "outputs": [
    {
     "data": {
      "text/html": [
       "<div>\n",
       "<style scoped>\n",
       "    .dataframe tbody tr th:only-of-type {\n",
       "        vertical-align: middle;\n",
       "    }\n",
       "\n",
       "    .dataframe tbody tr th {\n",
       "        vertical-align: top;\n",
       "    }\n",
       "\n",
       "    .dataframe thead th {\n",
       "        text-align: right;\n",
       "    }\n",
       "</style>\n",
       "<table border=\"1\" class=\"dataframe\">\n",
       "  <thead>\n",
       "    <tr style=\"text-align: right;\">\n",
       "      <th></th>\n",
       "      <th>PassengerId</th>\n",
       "      <th>Survived</th>\n",
       "      <th>Pclass</th>\n",
       "      <th>Name</th>\n",
       "      <th>Sex</th>\n",
       "      <th>Age</th>\n",
       "      <th>SibSp</th>\n",
       "      <th>Parch</th>\n",
       "      <th>Ticket</th>\n",
       "      <th>Fare</th>\n",
       "      <th>Cabin</th>\n",
       "      <th>Embarked</th>\n",
       "    </tr>\n",
       "  </thead>\n",
       "  <tbody>\n",
       "    <tr>\n",
       "      <th>0</th>\n",
       "      <td>1</td>\n",
       "      <td>0</td>\n",
       "      <td>3</td>\n",
       "      <td>Braund, Mr. Owen Harris</td>\n",
       "      <td>male</td>\n",
       "      <td>22.0</td>\n",
       "      <td>1</td>\n",
       "      <td>0</td>\n",
       "      <td>A/5 21171</td>\n",
       "      <td>7.2500</td>\n",
       "      <td>NaN</td>\n",
       "      <td>S</td>\n",
       "    </tr>\n",
       "    <tr>\n",
       "      <th>1</th>\n",
       "      <td>2</td>\n",
       "      <td>1</td>\n",
       "      <td>1</td>\n",
       "      <td>Cumings, Mrs. John Bradley (Florence Briggs Th...</td>\n",
       "      <td>female</td>\n",
       "      <td>38.0</td>\n",
       "      <td>1</td>\n",
       "      <td>0</td>\n",
       "      <td>PC 17599</td>\n",
       "      <td>71.2833</td>\n",
       "      <td>C85</td>\n",
       "      <td>C</td>\n",
       "    </tr>\n",
       "    <tr>\n",
       "      <th>2</th>\n",
       "      <td>3</td>\n",
       "      <td>1</td>\n",
       "      <td>3</td>\n",
       "      <td>Heikkinen, Miss. Laina</td>\n",
       "      <td>female</td>\n",
       "      <td>26.0</td>\n",
       "      <td>0</td>\n",
       "      <td>0</td>\n",
       "      <td>STON/O2. 3101282</td>\n",
       "      <td>7.9250</td>\n",
       "      <td>NaN</td>\n",
       "      <td>S</td>\n",
       "    </tr>\n",
       "    <tr>\n",
       "      <th>3</th>\n",
       "      <td>4</td>\n",
       "      <td>1</td>\n",
       "      <td>1</td>\n",
       "      <td>Futrelle, Mrs. Jacques Heath (Lily May Peel)</td>\n",
       "      <td>female</td>\n",
       "      <td>35.0</td>\n",
       "      <td>1</td>\n",
       "      <td>0</td>\n",
       "      <td>113803</td>\n",
       "      <td>53.1000</td>\n",
       "      <td>C123</td>\n",
       "      <td>S</td>\n",
       "    </tr>\n",
       "    <tr>\n",
       "      <th>4</th>\n",
       "      <td>5</td>\n",
       "      <td>0</td>\n",
       "      <td>3</td>\n",
       "      <td>Allen, Mr. William Henry</td>\n",
       "      <td>male</td>\n",
       "      <td>35.0</td>\n",
       "      <td>0</td>\n",
       "      <td>0</td>\n",
       "      <td>373450</td>\n",
       "      <td>8.0500</td>\n",
       "      <td>NaN</td>\n",
       "      <td>S</td>\n",
       "    </tr>\n",
       "  </tbody>\n",
       "</table>\n",
       "</div>"
      ],
      "text/plain": [
       "   PassengerId  Survived  Pclass  \\\n",
       "0            1         0       3   \n",
       "1            2         1       1   \n",
       "2            3         1       3   \n",
       "3            4         1       1   \n",
       "4            5         0       3   \n",
       "\n",
       "                                                Name     Sex   Age  SibSp  \\\n",
       "0                            Braund, Mr. Owen Harris    male  22.0      1   \n",
       "1  Cumings, Mrs. John Bradley (Florence Briggs Th...  female  38.0      1   \n",
       "2                             Heikkinen, Miss. Laina  female  26.0      0   \n",
       "3       Futrelle, Mrs. Jacques Heath (Lily May Peel)  female  35.0      1   \n",
       "4                           Allen, Mr. William Henry    male  35.0      0   \n",
       "\n",
       "   Parch            Ticket     Fare Cabin Embarked  \n",
       "0      0         A/5 21171   7.2500   NaN        S  \n",
       "1      0          PC 17599  71.2833   C85        C  \n",
       "2      0  STON/O2. 3101282   7.9250   NaN        S  \n",
       "3      0            113803  53.1000  C123        S  \n",
       "4      0            373450   8.0500   NaN        S  "
      ]
     },
     "execution_count": 43,
     "metadata": {},
     "output_type": "execute_result"
    }
   ],
   "source": [
    "train_df.head()"
   ]
  },
  {
   "cell_type": "markdown",
   "id": "hired-approach",
   "metadata": {},
   "source": [
    "survival:   Survival    \n",
    "PassengerId: Unique Id of a passenger.    \n",
    "pclass: Ticket class    \n",
    "sex:    Sex \n",
    "Age:    Age in years    \n",
    "sibsp:  # of siblings / spouses aboard the Titanic  \n",
    "parch:  # of parents / children aboard the Titanic  \n",
    "ticket: Ticket number   \n",
    "fare:   Passenger fare  \n",
    "cabin:  Cabin number    \n",
    "embarked:   Port of Embarkation"
   ]
  },
  {
   "cell_type": "code",
   "execution_count": null,
   "id": "controlled-alias",
   "metadata": {},
   "outputs": [],
   "source": [
    "train_df.drop([\"PassengerId\",\"Ticket\"],axis=1,inplace = True)"
   ]
  },
  {
   "cell_type": "code",
   "execution_count": null,
   "id": "mechanical-desperate",
   "metadata": {},
   "outputs": [],
   "source": [
    "train_df.info()"
   ]
  },
  {
   "cell_type": "code",
   "execution_count": null,
   "id": "organized-branch",
   "metadata": {},
   "outputs": [],
   "source": [
    "train_df.head(10)"
   ]
  },
  {
   "cell_type": "code",
   "execution_count": null,
   "id": "normal-record",
   "metadata": {},
   "outputs": [],
   "source": [
    "train_df.describe()"
   ]
  },
  {
   "cell_type": "code",
   "execution_count": null,
   "id": "sustainable-dollar",
   "metadata": {},
   "outputs": [],
   "source": [
    "# null values in each column\n",
    "train_df.isnull().sum()"
   ]
  },
  {
   "cell_type": "code",
   "execution_count": null,
   "id": "earned-namibia",
   "metadata": {},
   "outputs": [],
   "source": [
    "# null values in each column in ascending order\n",
    "train_df.isnull().sum().sort_values(ascending=False)"
   ]
  },
  {
   "cell_type": "code",
   "execution_count": null,
   "id": "married-center",
   "metadata": {},
   "outputs": [],
   "source": [
    "print(train_df.shape)\n",
    "train_df.shape[0]"
   ]
  },
  {
   "cell_type": "code",
   "execution_count": null,
   "id": "homeless-tennis",
   "metadata": {},
   "outputs": [],
   "source": [
    "train_df.isnull().sum()/train_df.shape[0]*100"
   ]
  },
  {
   "cell_type": "code",
   "execution_count": null,
   "id": "duplicate-backing",
   "metadata": {},
   "outputs": [],
   "source": [
    "total = train_df.isnull().sum().sort_values(ascending=False)\n",
    "\n",
    "percent_1 = train_df.isnull().sum()/train_df.shape[0]*100\n",
    "\n",
    "percent_2 = (round(percent_1, 2)).sort_values(ascending=False)\n",
    "\n",
    "percentage_missing_data = pd.concat([total, percent_2,total_values], axis=1, keys=[\"total_number_missing\",\"%\"]) # axis = 1 to keep things vertically\n",
    "percentage_missing_data[\"total_values\"] = train_df.shape[0]\n",
    "percentage_missing_data"
   ]
  },
  {
   "cell_type": "code",
   "execution_count": null,
   "id": "south-engineering",
   "metadata": {},
   "outputs": [],
   "source": [
    "train_df.columns.values"
   ]
  },
  {
   "cell_type": "code",
   "execution_count": null,
   "id": "signed-stupid",
   "metadata": {},
   "outputs": [],
   "source": [
    "survived = 'survived'\n",
    "not_survived = 'not survived'"
   ]
  },
  {
   "cell_type": "code",
   "execution_count": null,
   "id": "thick-behalf",
   "metadata": {},
   "outputs": [],
   "source": [
    "women = train_df[train_df['Sex']=='female']\n",
    "men = train_df[train_df['Sex']=='male']"
   ]
  },
  {
   "cell_type": "code",
   "execution_count": null,
   "id": "human-virginia",
   "metadata": {},
   "outputs": [],
   "source": [
    "plt.figure(figsize=(20,20))\n",
    "ax = sns.histplot(data= women, x = \"Age\", hue=\"Survived\", multiple=\"dodge\", shrink=0.9, kde=False)\n",
    "ax.set_title('Female')\n",
    "ax.set_xbound(0,int(women[\"Age\"].max())+10)\n",
    "ax.set_xticks(list(range(0,int(women[\"Age\"].max())+5,5)))\n",
    "\n",
    "plt.figure(figsize=(20,20))\n",
    "ax1 = sns.histplot(data= men, x = \"Age\", hue=\"Survived\", multiple=\"dodge\", shrink=0.9, kde=False)\n",
    "ax1.set_title('male')\n",
    "ax1.set_xbound(0,int(men[\"Age\"].max())+10)\n",
    "ax1.set_xticks(list(range(0,int(men[\"Age\"].max())+5,5)))"
   ]
  },
  {
   "cell_type": "code",
   "execution_count": null,
   "id": "employed-support",
   "metadata": {},
   "outputs": [],
   "source": [
    "fig, axes = plt.subplots(nrows=2, ncols=1,figsize=(20, 20))\n",
    "\n",
    "ax = sns.histplot(women[women['Survived']==1].Age.dropna(),shrink=0.45, bins=list(range(0,int(women[\"Age\"].max())+5,5)), label = survived, ax = axes[0],color=\"red\")\n",
    "ax = sns.histplot(women[women['Survived']==0].Age.dropna(),shrink=0.45, bins=list(range(0,int(women[\"Age\"].max())+5,5)), label = not_survived, ax = axes[0],color=\"green\")\n",
    "ax.legend()\n",
    "ax.set_title('Female')\n",
    "ax.set_xbound(0,int(women[\"Age\"].max())+10)\n",
    "ax.set_xticks(list(range(0,int(women[\"Age\"].max())+5,5)))\n",
    "\n",
    "ax = sns.histplot(men[men['Survived']==1].Age.dropna(), bins=list(range(0,int(men[\"Age\"].max())+5,5)), label = survived, ax = axes[1], color=\"red\")\n",
    "ax = sns.histplot(men[men['Survived']==0].Age.dropna(), bins=list(range(0,int(men[\"Age\"].max())+5,5)), label = not_survived, ax = axes[1], color=\"green\")\n",
    "ax.legend()\n",
    "ax.set_title('Male')\n",
    "ax.set_xbound(0,int(men[\"Age\"].max())+10)\n",
    "ax.set_xticks(list(range(0,int(men[\"Age\"].max())+5,5)))\n"
   ]
  },
  {
   "cell_type": "code",
   "execution_count": null,
   "id": "former-evaluation",
   "metadata": {},
   "outputs": [],
   "source": [
    "for d in list(train_df.columns):\n",
    "    train_df[d].unique()"
   ]
  },
  {
   "cell_type": "code",
   "execution_count": null,
   "id": "palestinian-syndication",
   "metadata": {},
   "outputs": [],
   "source": [
    "FacetGrid = sns.FacetGrid(train_df, row='Embarked', size=4.5, aspect=1.6)\n",
    "FacetGrid.map(sns.pointplot, 'Pclass', 'Survived', 'Sex', palette=None,  order=None, hue_order=None )\n",
    "FacetGrid.add_legend()"
   ]
  },
  {
   "cell_type": "code",
   "execution_count": null,
   "id": "sound-cherry",
   "metadata": {},
   "outputs": [],
   "source": []
  }
 ],
 "metadata": {
  "kernelspec": {
   "display_name": "Python 3.9.1 64-bit",
   "language": "python",
   "name": "python39164bitd0bc5e546cd6454c8f89cd1e83033c41"
  },
  "language_info": {
   "codemirror_mode": {
    "name": "ipython",
    "version": 3
   },
   "file_extension": ".py",
   "mimetype": "text/x-python",
   "name": "python",
   "nbconvert_exporter": "python",
   "pygments_lexer": "ipython3",
   "version": "3.9.1"
  },
  "metadata": {
   "interpreter": {
    "hash": "3e7a222828a79c12e374d4c3d14b8265923af520aece9b4683e18cf594bc462b"
   }
  },
  "toc-autonumbering": false,
  "toc-showcode": false,
  "toc-showmarkdowntxt": false,
  "toc-showtags": false
 },
 "nbformat": 4,
 "nbformat_minor": 5
}
